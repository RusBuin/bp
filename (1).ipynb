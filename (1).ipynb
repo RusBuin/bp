{
  "cells": [
    {
      "cell_type": "markdown",
      "metadata": {
        "id": "view-in-github",
        "colab_type": "text"
      },
      "source": [
        "<a href=\"https://colab.research.google.com/github/RusBuin/bp/blob/main/(1).ipynb\" target=\"_parent\"><img src=\"https://colab.research.google.com/assets/colab-badge.svg\" alt=\"Open In Colab\"/></a>"
      ]
    },
    {
      "cell_type": "code",
      "execution_count": null,
      "id": "468b2100-7780-43b9-981e-67aab44fd9f2",
      "metadata": {
        "id": "468b2100-7780-43b9-981e-67aab44fd9f2"
      },
      "outputs": [],
      "source": [
        "import pandas as pd\n",
        "import keras\n",
        "from keras.preprocessing.text import Tokenizer\n",
        "from keras.preprocessing.sequence import pad_sequences\n",
        "from keras.models import Sequential\n",
        "from keras.layers import Embedding, Conv1D, MaxPooling1D, GlobalMaxPooling1D, Dense\n",
        "import numpy as np\n",
        "from sklearn.model_selection import train_test_split\n",
        "from keras.utils import to_categorical\n",
        "from sklearn.metrics import confusion_matrix, accuracy_score, precision_score, recall_score, f1_score\n",
        "from tensorflow.keras.layers import Dropout\n",
        "import nltk\n",
        "from nltk.corpus import stopwords\n",
        "from nltk.tokenize import word_tokenize\n",
        "from nltk.stem import PorterStemmer\n",
        "import re\n",
        "from tensorflow.keras.layers import Embedding, Conv1D, GlobalMaxPooling1D, Dense\n",
        "from tensorflow.keras.models import Sequential\n",
        "import pandas as pd\n",
        "import matplotlib.pyplot as plt\n",
        "import seaborn as sns\n",
        "from sklearn.metrics import confusion_matrix\n"
      ]
    },
    {
      "cell_type": "code",
      "execution_count": null,
      "id": "fbec0bf7-cc5f-4f20-9e4f-fec0b9433996",
      "metadata": {
        "id": "fbec0bf7-cc5f-4f20-9e4f-fec0b9433996",
        "outputId": "f47ce9a3-146e-459a-babf-37b7f7bc10fb",
        "colab": {
          "base_uri": "https://localhost:8080/"
        }
      },
      "outputs": [
        {
          "output_type": "stream",
          "name": "stderr",
          "text": [
            "[nltk_data] Downloading package punkt to /root/nltk_data...\n",
            "[nltk_data]   Unzipping tokenizers/punkt.zip.\n",
            "[nltk_data] Downloading package stopwords to /root/nltk_data...\n",
            "[nltk_data]   Unzipping corpora/stopwords.zip.\n"
          ]
        },
        {
          "output_type": "execute_result",
          "data": {
            "text/plain": [
              "True"
            ]
          },
          "metadata": {},
          "execution_count": 3
        }
      ],
      "source": [
        "nltk.download('punkt')\n",
        "nltk.download('stopwords')"
      ]
    },
    {
      "cell_type": "markdown",
      "source": [
        "**Načítanie datasetov**\n",
        "\n",
        "---\n",
        "\n",
        "\n",
        " train: Twitter dataset by Davidson (80%, bez podvzorkovania);\n",
        " test: Twitter dataset by Davidson (20%)"
      ],
      "metadata": {
        "id": "cjdv-tDWAyvR"
      },
      "id": "cjdv-tDWAyvR"
    },
    {
      "cell_type": "code",
      "source": [
        "train = pd.read_csv('/content/drive/MyDrive/Data/trainNO.csv')\n",
        "test = pd.read_csv('/content/drive/MyDrive/Data/test.csv')\n"
      ],
      "metadata": {
        "id": "mv5FhE9WiSnB"
      },
      "id": "mv5FhE9WiSnB",
      "execution_count": null,
      "outputs": []
    },
    {
      "cell_type": "markdown",
      "source": [
        "**Predspraconanie dat**\n",
        "\n",
        "---\n",
        "\n"
      ],
      "metadata": {
        "id": "WvEwXEP8B_si"
      },
      "id": "WvEwXEP8B_si"
    },
    {
      "cell_type": "code",
      "source": [
        "# Načítanie stop-slov pre anglický jazyk\n",
        "stopwords = nltk.corpus.stopwords.words(\"english\")\n",
        "# Rozšírenie stop-slov o termíny charakteristické pre Twitter\n",
        "other_exclusions = [\"#ff\", \"ff\", \"rt\"]\n",
        "stopwords.extend(other_exclusions)\n",
        "# Inicializácia stemmera\n",
        "stemmer = PorterStemmer()\n",
        "\n",
        "def preprocess(tweet):\n",
        "     # Odstránenie nadbytočných medzier na začiatku spracovania\n",
        "    tweet_space = tweet.str.replace(r'\\s+', ' ', regex=True)\n",
        "\n",
        "    # Odstránenie používateľských spomenutí (učtov)\n",
        "    tweet_name = tweet_space.str.replace(r'@[\\w\\-]+', '', regex=True)\n",
        "\n",
        "    # Odstránenie odkazov\n",
        "    giant_url_regex =  re.compile('http[s]?://(?:[a-zA-Z]|[0-9]|[$-_@.&+]|'\n",
        "            '[!*\\(\\),]|(?:%[0-9a-fA-F][0-9a-fA-F]))+')\n",
        "    tweets = tweet_name.str.replace(giant_url_regex, '', regex=True)\n",
        "\n",
        "    # Odstránenie interpunkcie a čísel\n",
        "    punc_remove = tweets.str.replace(\"[^a-zA-Z]\", \" \", regex=True)\n",
        "\n",
        "    # Opätovné odstránenie nadbytočných medzier po odstránení interpunkcie a čísel\n",
        "    newtweet = punc_remove.str.replace(r'\\s+', ' ', regex=True)\n",
        "\n",
        "    # Konverzia na malé písmená\n",
        "    tweet_lower = newtweet.str.lower()\n",
        "\n",
        "    # Tokenizácia\n",
        "    tokenized_tweet = tweet_lower.apply(lambda x: x.split())\n",
        "\n",
        "    # Odstránenie stop-slov a stemming\n",
        "    tokenized_tweet = tokenized_tweet.apply(lambda x: [stemmer.stem(i) for i in x if i not in stopwords])\n",
        "\n",
        "    # Spojenie tokenov do reťazca\n",
        "    tokenized_tweet = tokenized_tweet.apply(lambda x: ' '.join(x))\n",
        "\n",
        "    return tokenized_tweet\n",
        "\n"
      ],
      "metadata": {
        "id": "_EkYSyCewqV6"
      },
      "id": "_EkYSyCewqV6",
      "execution_count": null,
      "outputs": []
    },
    {
      "cell_type": "code",
      "source": [
        "# Odstránenie stĺpca 'class' z train\n",
        "train_texts = train.drop('class', axis=1)\n",
        "\n",
        "# Konverzia stĺpca 'class' na kategóriálny formát\n",
        "train_labels = to_categorical(train['class'], num_classes=2)\n",
        "\n",
        "# Odstránenie stĺpca 'class' z test\n",
        "test_texts = test.drop('class', axis=1)\n",
        "\n",
        "# Konverzia stĺpca 'class' na kategóriálny formát\n",
        "test_labels = to_categorical(test['class'], num_classes=2)\n"
      ],
      "metadata": {
        "id": "j2GjiOLoiF2I"
      },
      "id": "j2GjiOLoiF2I",
      "execution_count": null,
      "outputs": []
    },
    {
      "cell_type": "code",
      "source": [
        "# Aplikácia funkcie preprocess na train_texts a test_texts\n",
        "train_texts['tweet'] = preprocess(train_texts['tweet'])\n",
        "\n",
        "test_texts['tweet'] = preprocess(test_texts['tweet'])\n"
      ],
      "metadata": {
        "id": "dmbKj3xwU9SZ"
      },
      "id": "dmbKj3xwU9SZ",
      "execution_count": null,
      "outputs": []
    },
    {
      "cell_type": "markdown",
      "source": [
        "**CNN**\n",
        "\n",
        "---\n",
        "Parametre modelu"
      ],
      "metadata": {
        "id": "DyoDVdinGGaF"
      },
      "id": "DyoDVdinGGaF"
    },
    {
      "cell_type": "code",
      "source": [
        "\n",
        "VOCAB_SIZE = 10000\n",
        "MAX_LENGTH = 754\n",
        "EMBEDDING_DIM = 200\n",
        "FILTERS = 256\n",
        "KERNEL_SIZE = 5\n",
        "HIDDEN_UNITS = 128\n",
        "tokenizer = Tokenizer(num_words=VOCAB_SIZE)\n",
        "tokenizer.fit_on_texts(train_texts['tweet'])\n",
        "\n",
        "# Príprava textových komentárov na numerické sekvencie pomocou tokenizeru.\n",
        "sequences = tokenizer.texts_to_sequences(train_texts['tweet'])\n",
        "\n",
        "# Zarovnanie numerických sekvencií na maximálnu dĺžku, ktorú určuje MAX_LENGTH.\n",
        "data = pad_sequences(sequences, maxlen=MAX_LENGTH)\n"
      ],
      "metadata": {
        "id": "GDtw459KJjom"
      },
      "id": "GDtw459KJjom",
      "execution_count": null,
      "outputs": []
    },
    {
      "cell_type": "code",
      "source": [
        "# Vytvorenie sekvenčného modelu\n",
        "model = Sequential()\n",
        "\n",
        "# Pridanie vrstvy embeddingu na mapovanie slov na vektory a určenie vstupnej dĺžky sekvencií\n",
        "model.add(Embedding(VOCAB_SIZE, EMBEDDING_DIM, input_length=MAX_LENGTH))\n",
        "\n",
        "# Pridanie vrstvy dropout na redukciu pretrénovania\n",
        "model.add(Dropout(0.5))\n",
        "\n",
        "# Pridanie konvolučnej vrstvy s RELU aktiváciou na extrakciu rôznych charakteristík z textu\n",
        "model.add(Conv1D(FILTERS, KERNEL_SIZE, activation='relu'))\n",
        "\n",
        "# Pridanie vrstvy max-poolingu na získanie najvýznamnejších charakteristík\n",
        "model.add(MaxPooling1D(pool_size=2))\n",
        "\n",
        "# Pridanie vrstvy global max-poolingu na extrakciu najvýznamnejšej črty zo všetkých čŕt\n",
        "model.add(GlobalMaxPooling1D())\n",
        "\n",
        "# Pridanie skrytej vrstvy s RELU aktiváciou\n",
        "model.add(Dense(HIDDEN_UNITS, activation='relu'))\n",
        "\n",
        "# Pridanie výstupnej vrstvy s aktiváciou sigmoid pre binárnu klasifikáciu\n",
        "model.add(Dense(2, activation='sigmoid'))\n",
        "\n",
        "# Kompilácia modelu s Adam optimizerom, binárnou krížovou entropiou ako stratovou funkciou a metrikou presnosti\n",
        "model.compile(optimizer='adam', loss='binary_crossentropy', metrics=['accuracy'])\n",
        "\n",
        "# Trénovanie modelu na trénovacích dátach s definovanou veľkosťou batcha, počtom epoch a rozdelením na validačnú sadu\n",
        "model.fit(data, np.array(train_labels), batch_size=64, epochs=10, validation_split=0.1)\n"
      ],
      "metadata": {
        "colab": {
          "base_uri": "https://localhost:8080/"
        },
        "id": "REgiz9lIjQEa",
        "outputId": "c3cdadf3-5ed4-439e-df3f-a0fe75df62ea"
      },
      "id": "REgiz9lIjQEa",
      "execution_count": null,
      "outputs": [
        {
          "output_type": "stream",
          "name": "stdout",
          "text": [
            "Epoch 1/10\n",
            "279/279 [==============================] - 19s 61ms/step - loss: 0.2085 - accuracy: 0.9154 - val_loss: 0.0963 - val_accuracy: 0.9637\n",
            "Epoch 2/10\n",
            "279/279 [==============================] - 8s 30ms/step - loss: 0.0851 - accuracy: 0.9700 - val_loss: 0.0966 - val_accuracy: 0.9667\n",
            "Epoch 3/10\n",
            "279/279 [==============================] - 10s 34ms/step - loss: 0.0506 - accuracy: 0.9825 - val_loss: 0.1167 - val_accuracy: 0.9602\n",
            "Epoch 4/10\n",
            "279/279 [==============================] - 8s 30ms/step - loss: 0.0282 - accuracy: 0.9911 - val_loss: 0.1565 - val_accuracy: 0.9496\n",
            "Epoch 5/10\n",
            "279/279 [==============================] - 8s 29ms/step - loss: 0.0186 - accuracy: 0.9941 - val_loss: 0.1845 - val_accuracy: 0.9501\n",
            "Epoch 6/10\n",
            "279/279 [==============================] - 8s 29ms/step - loss: 0.0136 - accuracy: 0.9957 - val_loss: 0.2072 - val_accuracy: 0.9486\n",
            "Epoch 7/10\n",
            "279/279 [==============================] - 8s 30ms/step - loss: 0.0114 - accuracy: 0.9967 - val_loss: 0.2139 - val_accuracy: 0.9440\n",
            "Epoch 8/10\n",
            "279/279 [==============================] - 8s 29ms/step - loss: 0.0093 - accuracy: 0.9975 - val_loss: 0.2360 - val_accuracy: 0.9430\n",
            "Epoch 9/10\n",
            "279/279 [==============================] - 8s 30ms/step - loss: 0.0086 - accuracy: 0.9976 - val_loss: 0.2567 - val_accuracy: 0.9425\n",
            "Epoch 10/10\n",
            "279/279 [==============================] - 8s 30ms/step - loss: 0.0086 - accuracy: 0.9972 - val_loss: 0.2360 - val_accuracy: 0.9420\n"
          ]
        },
        {
          "output_type": "execute_result",
          "data": {
            "text/plain": [
              "<keras.src.callbacks.History at 0x7b9a0be47610>"
            ]
          },
          "metadata": {},
          "execution_count": 39
        }
      ]
    },
    {
      "cell_type": "code",
      "source": [
        "# Príprava textových komentárov na numerické sekvencie pomocou tokenizeru.\n",
        "sequences_test = tokenizer.texts_to_sequences(test_texts['tweet'])\n",
        "# Zarovnanie numerických sekvencií na maximálnu dĺžku, ktorú určuje MAX_LENGTH.\n",
        "data_test = pad_sequences(sequences_test, maxlen=MAX_LENGTH)\n",
        "\n",
        "# Vyhodnotenie modelu na testovacom súbore údajov\n",
        "loss, accuracy = model.evaluate(data_test, test_labels, verbose=1)\n",
        "print(\"Test Accuracy:\", accuracy)\n"
      ],
      "metadata": {
        "colab": {
          "base_uri": "https://localhost:8080/"
        },
        "id": "SfFSCRUTjSeM",
        "outputId": "59e07c23-8f85-4bfc-d5c1-758cae0a891e"
      },
      "id": "SfFSCRUTjSeM",
      "execution_count": null,
      "outputs": [
        {
          "output_type": "stream",
          "name": "stdout",
          "text": [
            "155/155 [==============================] - 1s 6ms/step - loss: 0.3190 - accuracy: 0.9340\n",
            "Test Accuracy: 0.934032678604126\n"
          ]
        }
      ]
    },
    {
      "cell_type": "code",
      "source": [
        "# Predikcia pre testovacie dáta\n",
        "predictions = model.predict(data_test)\n",
        "\n",
        "predicted_classes = np.argmax(predictions, axis=1)\n",
        "\n",
        "# Vytvorenie DataFrame s skutočnými triedami a predikovanými triedami\n",
        "results_df = pd.DataFrame({\n",
        "    'Text': test_texts['tweet'],\n",
        "    'True Class': np.argmax(test_labels, axis=1),\n",
        "    'Predicted Class': predicted_classes\n",
        "})\n"
      ],
      "metadata": {
        "id": "DHqBFlCUjUjC"
      },
      "id": "DHqBFlCUjUjC",
      "execution_count": null,
      "outputs": []
    },
    {
      "cell_type": "code",
      "source": [
        "# Vytvorenie confusion matrix\n",
        "conf_matrix = confusion_matrix(np.argmax(test_labels, axis=1), predicted_classes)\n",
        "\n",
        "# Nastavenie popisov\n",
        "labels = ['True Negative', 'False Positive', 'False Negative', 'True Positive']\n",
        "categories = ['Non-Toxic', 'Toxic']\n",
        "\n",
        "# Vytvorenie DataFrame pre confusion matrix s popismi\n",
        "conf_df = pd.DataFrame(conf_matrix, index=categories, columns=categories)\n",
        "\n",
        "# Vizualizácia confusion matrix pomocou teplotnej mapy\n",
        "plt.figure(figsize=(8, 6))\n",
        "sns.heatmap(conf_df, annot=True, fmt='d', cmap='Blues')\n",
        "plt.xlabel('Predicted Label')\n",
        "plt.ylabel('True Label')\n",
        "plt.title('Confusion Matrix')\n",
        "plt.show()\n"
      ],
      "metadata": {
        "colab": {
          "base_uri": "https://localhost:8080/",
          "height": 564
        },
        "id": "eJ3n_P4XjW95",
        "outputId": "b190166e-9266-4c6f-ff6e-e9712baa8c9d"
      },
      "id": "eJ3n_P4XjW95",
      "execution_count": null,
      "outputs": [
        {
          "output_type": "display_data",
          "data": {
            "text/plain": [
              "<Figure size 800x600 with 2 Axes>"
            ],
            "image/png": "[encoded data removed]"
          },
          "metadata": {}
        }
      ]
    },
    {
      "cell_type": "code",
      "source": [
        "def false_negative_rate(false_negatives, true_positives):\n",
        "    return false_negatives / (false_negatives + true_positives)\n",
        "# Vypočítanie falošných negatív\n",
        "false_negatives = conf_matrix[1][0]\n",
        "print(false_negatives)\n",
        "# Vypočítanie počtu skutočných pozitív\n",
        "true_positives = conf_matrix[1][1]\n",
        "print(true_positives)\n",
        "# Výpočet falošnej negatívnej miery\n",
        "fnr = false_negative_rate(false_negatives, true_positives)\n",
        "\n",
        "print(\"Falošná negatívna miera:\", fnr)"
      ],
      "metadata": {
        "colab": {
          "base_uri": "https://localhost:8080/"
        },
        "id": "eFsRCZCqd2IQ",
        "outputId": "bd12777d-83fa-4a1b-c7dc-e34e14e7fa2a"
      },
      "id": "eFsRCZCqd2IQ",
      "execution_count": null,
      "outputs": [
        {
          "output_type": "stream",
          "name": "stdout",
          "text": [
            "107\n",
            "4015\n",
            "Falošná negatívna miera: 0.025958272683163513\n"
          ]
        }
      ]
    }
  ],
  "metadata": {
    "kernelspec": {
      "display_name": "Python 3",
      "name": "python3"
    },
    "language_info": {
      "codemirror_mode": {
        "name": "ipython",
        "version": 3
      },
      "file_extension": ".py",
      "mimetype": "text/x-python",
      "name": "python",
      "nbconvert_exporter": "python",
      "pygments_lexer": "ipython3",
      "version": "3.10.6"
    },
    "colab": {
      "provenance": [],
      "gpuType": "T4",
      "include_colab_link": true
    },
    "accelerator": "GPU"
  },
  "nbformat": 4,
  "nbformat_minor": 5
}